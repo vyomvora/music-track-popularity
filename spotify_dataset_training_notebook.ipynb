{
  "cells": [
    {
      "cell_type": "code",
      "execution_count": 1,
      "metadata": {
        "id": "lWchlQIq9mgX"
      },
      "outputs": [],
      "source": [
        "import pandas as pd\n",
        "import numpy as np\n",
        "import matplotlib.pyplot as plt\n",
        "import seaborn as sns\n",
        "import warnings\n",
        "import os\n",
        "from datetime import datetime\n",
        "from scipy import stats\n",
        "from sklearn.preprocessing import StandardScaler\n",
        "\n",
        "warnings.filterwarnings('ignore')\n",
        "plt.style.use('seaborn-v0_8')\n",
        "sns.set_palette(\"husl\")\n",
        "\n",
        "# ML Libraries\n",
        "from sklearn.model_selection import train_test_split, cross_val_score\n",
        "from sklearn.preprocessing import StandardScaler, OneHotEncoder\n",
        "import joblib\n",
        "import pickle\n",
        "\n",
        "# Regression Models\n",
        "from sklearn.linear_model import Ridge\n",
        "from sklearn.ensemble import RandomForestRegressor\n",
        "\n",
        "# Metrics\n",
        "from sklearn.metrics import mean_squared_error, mean_absolute_error, r2_score\n"
      ]
    },
    {
      "cell_type": "code",
      "execution_count": 2,
      "metadata": {
        "colab": {
          "base_uri": "https://localhost:8080/",
          "height": 325
        },
        "id": "KEfHQNDO6Ca1",
        "outputId": "34cade53-5c2e-4769-f9db-b8f7bf1952a1"
      },
      "outputs": [
        {
          "data": {
            "text/html": [
              "<div>\n",
              "<style scoped>\n",
              "    .dataframe tbody tr th:only-of-type {\n",
              "        vertical-align: middle;\n",
              "    }\n",
              "\n",
              "    .dataframe tbody tr th {\n",
              "        vertical-align: top;\n",
              "    }\n",
              "\n",
              "    .dataframe thead th {\n",
              "        text-align: right;\n",
              "    }\n",
              "</style>\n",
              "<table border=\"1\" class=\"dataframe\">\n",
              "  <thead>\n",
              "    <tr style=\"text-align: right;\">\n",
              "      <th></th>\n",
              "      <th>energy</th>\n",
              "      <th>tempo</th>\n",
              "      <th>danceability</th>\n",
              "      <th>playlist_genre</th>\n",
              "      <th>loudness</th>\n",
              "      <th>liveness</th>\n",
              "      <th>valence</th>\n",
              "      <th>track_artist</th>\n",
              "      <th>time_signature</th>\n",
              "      <th>speechiness</th>\n",
              "      <th>...</th>\n",
              "      <th>track_album_id</th>\n",
              "      <th>mode</th>\n",
              "      <th>key</th>\n",
              "      <th>duration_ms</th>\n",
              "      <th>acousticness</th>\n",
              "      <th>id</th>\n",
              "      <th>playlist_subgenre</th>\n",
              "      <th>type</th>\n",
              "      <th>playlist_id</th>\n",
              "      <th>popularity_label</th>\n",
              "    </tr>\n",
              "  </thead>\n",
              "  <tbody>\n",
              "    <tr>\n",
              "      <th>0</th>\n",
              "      <td>0.592</td>\n",
              "      <td>157.969</td>\n",
              "      <td>0.521</td>\n",
              "      <td>pop</td>\n",
              "      <td>-7.777</td>\n",
              "      <td>0.122</td>\n",
              "      <td>0.535</td>\n",
              "      <td>Lady Gaga, Bruno Mars</td>\n",
              "      <td>3.0</td>\n",
              "      <td>0.0304</td>\n",
              "      <td>...</td>\n",
              "      <td>10FLjwfpbxLmW8c25Xyc2N</td>\n",
              "      <td>0.0</td>\n",
              "      <td>6.0</td>\n",
              "      <td>251668.0</td>\n",
              "      <td>0.3080</td>\n",
              "      <td>2plbrEY59IikOBgBGLjaoe</td>\n",
              "      <td>mainstream</td>\n",
              "      <td>audio_features</td>\n",
              "      <td>37i9dQZF1DXcBWIGoYBM5M</td>\n",
              "      <td>high</td>\n",
              "    </tr>\n",
              "    <tr>\n",
              "      <th>1</th>\n",
              "      <td>0.507</td>\n",
              "      <td>104.978</td>\n",
              "      <td>0.747</td>\n",
              "      <td>pop</td>\n",
              "      <td>-10.171</td>\n",
              "      <td>0.117</td>\n",
              "      <td>0.438</td>\n",
              "      <td>Billie Eilish</td>\n",
              "      <td>4.0</td>\n",
              "      <td>0.0358</td>\n",
              "      <td>...</td>\n",
              "      <td>7aJuG4TFXa2hmE4z1yxc3n</td>\n",
              "      <td>1.0</td>\n",
              "      <td>2.0</td>\n",
              "      <td>210373.0</td>\n",
              "      <td>0.2000</td>\n",
              "      <td>6dOtVTDdiauQNBQEDOtlAB</td>\n",
              "      <td>mainstream</td>\n",
              "      <td>audio_features</td>\n",
              "      <td>37i9dQZF1DXcBWIGoYBM5M</td>\n",
              "      <td>high</td>\n",
              "    </tr>\n",
              "    <tr>\n",
              "      <th>2</th>\n",
              "      <td>0.808</td>\n",
              "      <td>108.548</td>\n",
              "      <td>0.554</td>\n",
              "      <td>pop</td>\n",
              "      <td>-4.169</td>\n",
              "      <td>0.159</td>\n",
              "      <td>0.372</td>\n",
              "      <td>Gracie Abrams</td>\n",
              "      <td>4.0</td>\n",
              "      <td>0.0368</td>\n",
              "      <td>...</td>\n",
              "      <td>0hBRqPYPXhr1RkTDG3n4Mk</td>\n",
              "      <td>1.0</td>\n",
              "      <td>1.0</td>\n",
              "      <td>166300.0</td>\n",
              "      <td>0.2140</td>\n",
              "      <td>7ne4VBA60CxGM75vw0EYad</td>\n",
              "      <td>mainstream</td>\n",
              "      <td>audio_features</td>\n",
              "      <td>37i9dQZF1DXcBWIGoYBM5M</td>\n",
              "      <td>high</td>\n",
              "    </tr>\n",
              "    <tr>\n",
              "      <th>3</th>\n",
              "      <td>0.910</td>\n",
              "      <td>112.966</td>\n",
              "      <td>0.670</td>\n",
              "      <td>pop</td>\n",
              "      <td>-4.070</td>\n",
              "      <td>0.304</td>\n",
              "      <td>0.786</td>\n",
              "      <td>Sabrina Carpenter</td>\n",
              "      <td>4.0</td>\n",
              "      <td>0.0634</td>\n",
              "      <td>...</td>\n",
              "      <td>4B4Elma4nNDUyl6D5PvQkj</td>\n",
              "      <td>0.0</td>\n",
              "      <td>0.0</td>\n",
              "      <td>157280.0</td>\n",
              "      <td>0.0939</td>\n",
              "      <td>1d7Ptw3qYcfpdLNL5REhtJ</td>\n",
              "      <td>mainstream</td>\n",
              "      <td>audio_features</td>\n",
              "      <td>37i9dQZF1DXcBWIGoYBM5M</td>\n",
              "      <td>high</td>\n",
              "    </tr>\n",
              "    <tr>\n",
              "      <th>4</th>\n",
              "      <td>0.783</td>\n",
              "      <td>149.027</td>\n",
              "      <td>0.777</td>\n",
              "      <td>pop</td>\n",
              "      <td>-4.477</td>\n",
              "      <td>0.355</td>\n",
              "      <td>0.939</td>\n",
              "      <td>ROSÉ, Bruno Mars</td>\n",
              "      <td>4.0</td>\n",
              "      <td>0.2600</td>\n",
              "      <td>...</td>\n",
              "      <td>2IYQwwgxgOIn7t3iF6ufFD</td>\n",
              "      <td>0.0</td>\n",
              "      <td>0.0</td>\n",
              "      <td>169917.0</td>\n",
              "      <td>0.0283</td>\n",
              "      <td>5vNRhkKd0yEAg8suGBpjeY</td>\n",
              "      <td>mainstream</td>\n",
              "      <td>audio_features</td>\n",
              "      <td>37i9dQZF1DXcBWIGoYBM5M</td>\n",
              "      <td>high</td>\n",
              "    </tr>\n",
              "  </tbody>\n",
              "</table>\n",
              "<p>5 rows × 30 columns</p>\n",
              "</div>"
            ],
            "text/plain": [
              "   energy    tempo  danceability playlist_genre  loudness  liveness  valence  \\\n",
              "0   0.592  157.969         0.521            pop    -7.777     0.122    0.535   \n",
              "1   0.507  104.978         0.747            pop   -10.171     0.117    0.438   \n",
              "2   0.808  108.548         0.554            pop    -4.169     0.159    0.372   \n",
              "3   0.910  112.966         0.670            pop    -4.070     0.304    0.786   \n",
              "4   0.783  149.027         0.777            pop    -4.477     0.355    0.939   \n",
              "\n",
              "            track_artist  time_signature  speechiness  ...  \\\n",
              "0  Lady Gaga, Bruno Mars             3.0       0.0304  ...   \n",
              "1          Billie Eilish             4.0       0.0358  ...   \n",
              "2          Gracie Abrams             4.0       0.0368  ...   \n",
              "3      Sabrina Carpenter             4.0       0.0634  ...   \n",
              "4       ROSÉ, Bruno Mars             4.0       0.2600  ...   \n",
              "\n",
              "           track_album_id mode  key duration_ms acousticness  \\\n",
              "0  10FLjwfpbxLmW8c25Xyc2N  0.0  6.0    251668.0       0.3080   \n",
              "1  7aJuG4TFXa2hmE4z1yxc3n  1.0  2.0    210373.0       0.2000   \n",
              "2  0hBRqPYPXhr1RkTDG3n4Mk  1.0  1.0    166300.0       0.2140   \n",
              "3  4B4Elma4nNDUyl6D5PvQkj  0.0  0.0    157280.0       0.0939   \n",
              "4  2IYQwwgxgOIn7t3iF6ufFD  0.0  0.0    169917.0       0.0283   \n",
              "\n",
              "                       id playlist_subgenre            type  \\\n",
              "0  2plbrEY59IikOBgBGLjaoe        mainstream  audio_features   \n",
              "1  6dOtVTDdiauQNBQEDOtlAB        mainstream  audio_features   \n",
              "2  7ne4VBA60CxGM75vw0EYad        mainstream  audio_features   \n",
              "3  1d7Ptw3qYcfpdLNL5REhtJ        mainstream  audio_features   \n",
              "4  5vNRhkKd0yEAg8suGBpjeY        mainstream  audio_features   \n",
              "\n",
              "              playlist_id  popularity_label  \n",
              "0  37i9dQZF1DXcBWIGoYBM5M              high  \n",
              "1  37i9dQZF1DXcBWIGoYBM5M              high  \n",
              "2  37i9dQZF1DXcBWIGoYBM5M              high  \n",
              "3  37i9dQZF1DXcBWIGoYBM5M              high  \n",
              "4  37i9dQZF1DXcBWIGoYBM5M              high  \n",
              "\n",
              "[5 rows x 30 columns]"
            ]
          },
          "execution_count": 2,
          "metadata": {},
          "output_type": "execute_result"
        }
      ],
      "source": [
        "df = pd.read_csv('spotify_data.csv')\n",
        "df.head()"
      ]
    },
    {
      "cell_type": "markdown",
      "metadata": {
        "id": "O5HWxsEq93ir"
      },
      "source": [
        "## Basic Data Overview"
      ]
    },
    {
      "cell_type": "code",
      "execution_count": 3,
      "metadata": {
        "colab": {
          "base_uri": "https://localhost:8080/"
        },
        "id": "rQOdrkr99zWy",
        "outputId": "f34b63d8-231c-4fe0-b14a-c2c4361cac92"
      },
      "outputs": [
        {
          "name": "stdout",
          "output_type": "stream",
          "text": [
            "Dataset Shape: (4831, 30)\n",
            "Memory Usage: 5.74588680267334 MB\n",
            "Data Types Summary:\n",
            "object     16\n",
            "float64    13\n",
            "int64       1\n",
            "Name: count, dtype: int64\n",
            "Missing Values Analysis:\n",
            "              Column  Missing_Count  Missing_Percentage\n",
            "0             energy              1              0.0207\n",
            "1              tempo              1              0.0207\n",
            "2       danceability              1              0.0207\n",
            "4           loudness              1              0.0207\n",
            "5           liveness              1              0.0207\n",
            "6            valence              1              0.0207\n",
            "13  track_album_name              1              0.0207\n",
            "8     time_signature              1              0.0207\n",
            "9        speechiness              1              0.0207\n",
            "11        track_href              1              0.0207\n",
            "12               uri              1              0.0207\n",
            "21              mode              1              0.0207\n",
            "19  instrumentalness              1              0.0207\n",
            "15      analysis_url              1              0.0207\n",
            "25                id              1              0.0207\n",
            "24      acousticness              1              0.0207\n",
            "23       duration_ms              1              0.0207\n",
            "27              type              1              0.0207\n",
            "22               key              1              0.0207\n",
            "Duplicate Rows: 0\n"
          ]
        }
      ],
      "source": [
        "print(f\"Dataset Shape: {df.shape}\")\n",
        "print(f\"Memory Usage: {df.memory_usage(deep=True).sum() / 1024**2} MB\")\n",
        "\n",
        "# Data types summary\n",
        "print(\"Data Types Summary:\")\n",
        "dtype_summary = df.dtypes.value_counts()\n",
        "print(dtype_summary)\n",
        "\n",
        "# Missing values analysis\n",
        "print(\"Missing Values Analysis:\")\n",
        "missing_data = df.isnull().sum()\n",
        "missing_percent = (missing_data / len(df)) * 100\n",
        "missing_df = pd.DataFrame({\n",
        "    'Column': missing_data.index,\n",
        "    'Missing_Count': missing_data.values,\n",
        "    'Missing_Percentage': missing_percent.values\n",
        "}).sort_values('Missing_Count', ascending=False)\n",
        "\n",
        "print(missing_df[missing_df.Missing_Count > 0])\n",
        "\n",
        "# Duplicate analysis\n",
        "print(f\"Duplicate Rows: {df.duplicated().sum()}\")\n"
      ]
    },
    {
      "cell_type": "markdown",
      "metadata": {
        "id": "pBHuPHx1-Blc"
      },
      "source": [
        "## Numerical Features Analysis\n"
      ]
    },
    {
      "cell_type": "code",
      "execution_count": 4,
      "metadata": {
        "colab": {
          "base_uri": "https://localhost:8080/"
        },
        "id": "6AYoU5wu99gb",
        "outputId": "c8c63366-94d9-4b3c-a6b9-982fbb619461"
      },
      "outputs": [
        {
          "name": "stdout",
          "output_type": "stream",
          "text": [
            "Numerical columns (14): ['energy', 'tempo', 'danceability', 'loudness', 'liveness', 'valence', 'time_signature', 'speechiness', 'track_popularity', 'instrumentalness', 'mode', 'key', 'duration_ms', 'acousticness']\n",
            "Statistical Summary:\n",
            "            energy        tempo  danceability     loudness     liveness  \\\n",
            "count  4830.000000  4830.000000   4830.000000  4830.000000  4830.000000   \n",
            "mean      0.586691   118.269293      0.622311    -9.281627     0.167613   \n",
            "std       0.246263    28.512615      0.187706     7.129396     0.124429   \n",
            "min       0.000202    48.232000      0.058900   -48.069000     0.021000   \n",
            "25%       0.442250    96.063000      0.525000   -10.297750     0.095400   \n",
            "50%       0.633000   118.059500      0.653000    -7.191000     0.118000   \n",
            "75%       0.777000   136.723500      0.758000    -5.336750     0.195000   \n",
            "max       0.998000   241.426000      0.979000     1.318000     0.979000   \n",
            "\n",
            "           valence  time_signature  speechiness  track_popularity  \\\n",
            "count  4830.000000     4830.000000  4830.000000       4831.000000   \n",
            "mean      0.481930        3.936646     0.101738         54.761126   \n",
            "std       0.258036        0.409712     0.101032         19.828573   \n",
            "min       0.029600        1.000000     0.021900         11.000000   \n",
            "25%       0.275000        4.000000     0.038600         41.000000   \n",
            "50%       0.483000        4.000000     0.056100         56.000000   \n",
            "75%       0.690000        4.000000     0.118000         72.000000   \n",
            "max       0.987000        5.000000     0.927000        100.000000   \n",
            "\n",
            "       instrumentalness         mode          key   duration_ms  acousticness  \n",
            "count       4830.000000  4830.000000  4830.000000  4.830000e+03   4830.000000  \n",
            "mean           0.201053     0.562112     5.233333  2.061508e+05      0.341217  \n",
            "std            0.351918     0.496178     3.580857  8.174556e+04      0.325382  \n",
            "min            0.000000     0.000000     0.000000  3.537500e+04      0.000004  \n",
            "25%            0.000000     0.000000     2.000000  1.590000e+05      0.052925  \n",
            "50%            0.000091     1.000000     5.000000  1.948665e+05      0.224500  \n",
            "75%            0.200500     1.000000     8.000000  2.334780e+05      0.590000  \n",
            "max            0.991000     1.000000    11.000000  1.355260e+06      0.996000  \n",
            "Distribution Analysis:\n",
            "energy: Skewness=-0.689\n",
            "tempo: Skewness=0.357\n",
            "danceability: Skewness=-0.836\n",
            "loudness: Skewness=-2.682\n",
            "liveness: Skewness=2.356\n",
            "valence: Skewness=-0.003\n",
            "time_signature: Skewness=-3.128\n",
            "speechiness: Skewness=2.057\n",
            "track_popularity: Skewness=-0.315\n",
            "instrumentalness: Skewness=1.350\n",
            "mode: Skewness=-0.250\n",
            "key: Skewness=0.049\n",
            "duration_ms: Skewness=3.984\n",
            "acousticness: Skewness=0.704\n"
          ]
        }
      ],
      "source": [
        "# Identify numerical columns\n",
        "numerical_cols = df.select_dtypes(include=[np.number]).columns.tolist()\n",
        "audio_features = ['energy', 'tempo', 'danceability', 'loudness', 'liveness',\n",
        "                 'valence', 'speechiness', 'instrumentalness', 'acousticness',\n",
        "                 'duration_ms', 'time_signature', 'mode', 'key']\n",
        "\n",
        "print(f\"Numerical columns ({len(numerical_cols)}): {numerical_cols}\")\n",
        "\n",
        "# Statistical summary\n",
        "print(\"Statistical Summary:\")\n",
        "print(df[numerical_cols].describe())\n",
        "\n",
        "# Distribution analysis\n",
        "print(\"Distribution Analysis:\")\n",
        "for col in numerical_cols:\n",
        "    if col in df.columns:\n",
        "        skewness = stats.skew(df[col].dropna())\n",
        "        print(f\"{col}: Skewness={skewness:.3f}\")\n"
      ]
    },
    {
      "cell_type": "markdown",
      "metadata": {
        "id": "I2xQPut6-Aa1"
      },
      "source": [
        "## Categorical Features Analysis\n"
      ]
    },
    {
      "cell_type": "code",
      "execution_count": 5,
      "metadata": {
        "colab": {
          "base_uri": "https://localhost:8080/"
        },
        "id": "UFULZMDI-LuM",
        "outputId": "1a89db05-e777-4969-f3b3-b01ce3d1c363"
      },
      "outputs": [
        {
          "name": "stdout",
          "output_type": "stream",
          "text": [
            "Categorical columns (16): ['playlist_genre', 'track_artist', 'track_href', 'uri', 'track_album_name', 'playlist_name', 'analysis_url', 'track_id', 'track_name', 'track_album_release_date', 'track_album_id', 'id', 'playlist_subgenre', 'type', 'playlist_id', 'popularity_label']\n",
            "Cardinality Analysis:\n",
            "playlist_genre: 35 unique values (0.7244876837093769%)\n",
            "track_artist: 3390 unique values (70.17180707927966%)\n",
            "track_href: 4494 unique values (93.024218588284%)\n",
            "uri: 4494 unique values (93.024218588284%)\n",
            "track_album_name: 3815 unique values (78.96915752432209%)\n",
            "playlist_name: 116 unique values (2.4011591802939347%)\n",
            "analysis_url: 4494 unique values (93.024218588284%)\n",
            "track_id: 4495 unique values (93.04491823638999%)\n",
            "track_name: 4372 unique values (90.49886151935416%)\n",
            "track_album_release_date: 1846 unique values (38.21155040364314%)\n",
            "track_album_id: 3879 unique values (80.29393500310495%)\n",
            "id: 4494 unique values (93.024218588284%)\n",
            "playlist_subgenre: 84 unique values (1.7387704409025047%)\n",
            "type: 1 unique values (0.020699648105982196%)\n",
            "playlist_id: 115 unique values (2.380459532187953%)\n",
            "popularity_label: 2 unique values (0.04139929621196439%)\n",
            "\n",
            " playlist_genre Distribution:\n",
            "playlist_genre\n",
            "electronic    589\n",
            "pop           515\n",
            "latin         425\n",
            "hip-hop       395\n",
            "ambient       359\n",
            "rock          345\n",
            "lofi          299\n",
            "world         228\n",
            "arabic        208\n",
            "brazilian     148\n",
            "Name: count, dtype: int64\n",
            "\n",
            " playlist_subgenre Distribution:\n",
            "playlist_subgenre\n",
            "modern        695\n",
            "chill         420\n",
            "classic       293\n",
            "meditative    231\n",
            "french        161\n",
            "reggaeton     158\n",
            "throwback     150\n",
            "scandi        134\n",
            "hip-hop       125\n",
            "jewish        101\n",
            "Name: count, dtype: int64\n",
            "\n",
            " popularity_label Distribution:\n",
            "popularity_label\n",
            "low     3145\n",
            "high    1686\n",
            "Name: count, dtype: int64\n"
          ]
        }
      ],
      "source": [
        "categorical_cols = df.select_dtypes(include=['object']).columns.tolist()\n",
        "print(f\"Categorical columns ({len(categorical_cols)}): {categorical_cols}\")\n",
        "\n",
        "# Cardinality analysis[used to understand no.of unique values in each col] [good for one-hot encoding]\n",
        "print(\"Cardinality Analysis:\")\n",
        "for col in categorical_cols:\n",
        "    unique_count = df[col].nunique()\n",
        "    print(f\"{col}: {unique_count} unique values ({unique_count/len(df)*100}%)\")\n",
        "\n",
        "# Key categorical distributions\n",
        "key_categorical = ['playlist_genre', 'playlist_subgenre', 'popularity_label']\n",
        "for col in key_categorical:\n",
        "    if col in df.columns:\n",
        "        print(f\"\\n {col} Distribution:\")\n",
        "        print(df[col].value_counts().head(10))"
      ]
    },
    {
      "cell_type": "markdown",
      "metadata": {
        "id": "2XtKpkZN-RFh"
      },
      "source": [
        "## Target Variable Analysis\n"
      ]
    },
    {
      "cell_type": "code",
      "execution_count": 6,
      "metadata": {
        "colab": {
          "base_uri": "https://localhost:8080/"
        },
        "id": "FtiOc9YG-Pa5",
        "outputId": "8408cce5-a71c-4bb9-e324-1305d99e5c90"
      },
      "outputs": [
        {
          "name": "stdout",
          "output_type": "stream",
          "text": [
            "Target: track_popularity\n",
            "Range: 11 - 100\n",
            "Mean: 54.76112606085697\n",
            "Median: 56.0\n",
            "Std: 19.828573499203063\n",
            "\n",
            " Popularity by Genre:\n",
            "                 mean  median    std\n",
            "playlist_genre                      \n",
            "afrobeats       52.57    58.5  18.25\n",
            "ambient         49.99    49.0  16.06\n",
            "arabic          51.48    49.5  16.24\n",
            "blues           59.89    68.0  18.23\n",
            "brazilian       39.69    36.0  18.42\n",
            "cantopop        24.59    24.0   7.92\n",
            "classical       46.79    46.0  14.01\n",
            "country         48.45    44.0  16.91\n",
            "disco           24.00    22.0  12.67\n",
            "electronic      52.94    55.0  18.02\n",
            "folk            59.59    67.0  19.14\n",
            "funk            32.18    31.0   6.48\n",
            "gaming          70.74    77.0  18.58\n",
            "gospel          47.05    50.0   9.00\n",
            "hip-hop         63.50    69.0  17.57\n",
            "indian          45.46    49.0  20.57\n",
            "indie           61.88    62.0   8.55\n",
            "j-pop           64.96    67.0   8.05\n",
            "jazz            46.37    47.0   6.98\n",
            "k-pop           68.76    72.0  10.46\n",
            "korean          62.15    61.0   5.56\n",
            "latin           55.88    61.0  21.31\n",
            "lofi            47.03    49.0   7.53\n",
            "mandopop        53.79    53.5   6.07\n",
            "metal           69.49    71.0   9.02\n",
            "pop             64.99    75.0  24.82\n",
            "punk            66.77    70.0  12.02\n",
            "r&b             76.16    76.0   4.65\n",
            "reggae          58.71    58.0   9.09\n",
            "rock            66.48    71.0  15.36\n",
            "soca            41.86    40.5   6.46\n",
            "soul            52.70    53.0   9.26\n",
            "turkish         51.28    50.0  12.02\n",
            "wellness        49.51    48.0   6.19\n",
            "world           29.31    27.5  12.97\n"
          ]
        }
      ],
      "source": [
        "target_col = 'track_popularity'\n",
        "if target_col in df.columns:\n",
        "    print(f\"Target: {target_col}\")\n",
        "    print(f\"Range: {df[target_col].min()} - {df[target_col].max()}\")\n",
        "    print(f\"Mean: {df[target_col].mean()}\")\n",
        "    print(f\"Median: {df[target_col].median()}\")\n",
        "    print(f\"Std: {df[target_col].std()}\")\n",
        "\n",
        "    # Popularity distribution by genre\n",
        "    print(\"\\n Popularity by Genre:\")\n",
        "    genre_popularity = df.groupby('playlist_genre')[target_col].agg(['mean', 'median', 'std']).round(2)\n",
        "    print(genre_popularity)"
      ]
    },
    {
      "cell_type": "markdown",
      "metadata": {
        "id": "nIr_PE5F-X9O"
      },
      "source": [
        "## Yearly Range Analysis"
      ]
    },
    {
      "cell_type": "code",
      "execution_count": 7,
      "metadata": {
        "colab": {
          "base_uri": "https://localhost:8080/"
        },
        "id": "RR6r87MV-W3M",
        "outputId": "eb4c8a72-e884-4a71-b6ec-bf9ee2c923bb"
      },
      "outputs": [
        {
          "name": "stdout",
          "output_type": "stream",
          "text": [
            "Release year range: 1954.0 - 2024.0\n",
            "Yearly Trends (last 10 years):\n",
            "              track_popularity  energy  valence  danceability\n",
            "release_year                                                 \n",
            "2015.0                  58.429   0.619    0.466         0.594\n",
            "2016.0                  52.035   0.612    0.484         0.616\n",
            "2017.0                  54.752   0.550    0.449         0.622\n",
            "2018.0                  57.591   0.563    0.433         0.665\n",
            "2019.0                  50.488   0.603    0.513         0.673\n",
            "2020.0                  48.196   0.575    0.466         0.669\n",
            "2021.0                  47.855   0.596    0.492         0.672\n",
            "2022.0                  52.502   0.611    0.503         0.668\n",
            "2023.0                  50.824   0.573    0.467         0.649\n",
            "2024.0                  54.856   0.539    0.433         0.601\n"
          ]
        }
      ],
      "source": [
        "if 'track_album_release_date' in df.columns:\n",
        "    # Convert release date\n",
        "    df['release_year'] = pd.to_datetime(df['track_album_release_date'], errors='coerce').dt.year\n",
        "\n",
        "    print(f\"Release year range: {df['release_year'].min()} - {df['release_year'].max()}\")\n",
        "\n",
        "    # Yearly trends\n",
        "    yearly_stats = df.groupby('release_year').agg({\n",
        "        'track_popularity': 'mean',\n",
        "        'energy': 'mean',\n",
        "        'valence': 'mean',\n",
        "        'danceability': 'mean'\n",
        "    }).round(3)\n",
        "\n",
        "    print(\"Yearly Trends (last 10 years):\")\n",
        "    print(yearly_stats.tail(10))"
      ]
    },
    {
      "cell_type": "markdown",
      "metadata": {
        "id": "zjygx-Pm-d9h"
      },
      "source": [
        "## OUTLIER DETECTION"
      ]
    },
    {
      "cell_type": "code",
      "execution_count": 8,
      "metadata": {
        "colab": {
          "base_uri": "https://localhost:8080/"
        },
        "id": "gMbb8HD6-dAp",
        "outputId": "e199308f-795c-450b-9054-176d445218a2"
      },
      "outputs": [
        {
          "name": "stdout",
          "output_type": "stream",
          "text": [
            "Outliers by IQR method:\n",
            "energy: 0 outliers (0.0%)\n",
            "tempo: 20 outliers (0.4139929621196439%)\n",
            "danceability: 191 outliers (3.9536327882425994%)\n",
            "loudness: 403 outliers (8.341958186710825%)\n",
            "liveness: 425 outliers (8.797350445042435%)\n",
            "valence: 0 outliers (0.0%)\n",
            "speechiness: 590 outliers (12.212792382529496%)\n",
            "instrumentalness: 1039 outliers (21.506934382115503%)\n",
            "acousticness: 0 outliers (0.0%)\n",
            "duration_ms: 190 outliers (3.9329331401366177%)\n",
            "time_signature: 534 outliers (11.053612088594495%)\n",
            "mode: 0 outliers (0.0%)\n",
            "key: 0 outliers (0.0%)\n"
          ]
        }
      ],
      "source": [
        "def detect_outliers_iqr(df, column):\n",
        "    Q1 = df[column].quantile(0.25)\n",
        "    Q3 = df[column].quantile(0.75)\n",
        "    IQR = Q3 - Q1\n",
        "    lower_bound = Q1 - 1.5 * IQR\n",
        "    upper_bound = Q3 + 1.5 * IQR\n",
        "    outliers = df[(df[column] < lower_bound) | (df[column] > upper_bound)]\n",
        "    return len(outliers), (len(outliers) / len(df)) * 100\n",
        "\n",
        "print(\"Outliers by IQR method:\")\n",
        "for col in audio_features:\n",
        "    if col in df.columns:\n",
        "        outlier_count, outlier_percent = detect_outliers_iqr(df, col)\n",
        "        print(f\"{col}: {outlier_count} outliers ({outlier_percent}%)\")\n"
      ]
    },
    {
      "cell_type": "markdown",
      "metadata": {
        "id": "FuCMAMIB-jw8"
      },
      "source": [
        "# FEATURE ENGINEERING\n"
      ]
    },
    {
      "cell_type": "code",
      "execution_count": 9,
      "metadata": {
        "colab": {
          "base_uri": "https://localhost:8080/"
        },
        "id": "q7T2R_6V-h6d",
        "outputId": "ce7cbc67-0a89-467d-98ec-ea988bad5d42"
      },
      "outputs": [
        {
          "name": "stdout",
          "output_type": "stream",
          "text": [
            "Duration categories created\n",
            "Mood score created (energy + valence)\n",
            "Acoustic-instrumental interaction created\n",
            "Popularity categories created\n"
          ]
        }
      ],
      "source": [
        "# Duration categories\n",
        "if 'duration_ms' in df.columns:\n",
        "    df['duration_minutes'] = df['duration_ms'] / 60000\n",
        "    df['duration_category'] = pd.cut(df['duration_minutes'],\n",
        "                                   bins=[0, 2, 3, 4, 5, float('inf')],\n",
        "                                   labels=['Very Short', 'Short', 'Medium', 'Long', 'Very Long'])\n",
        "    print(\"Duration categories created\")\n",
        "\n",
        "# Audio feature combinations\n",
        "if all(col in df.columns for col in ['energy', 'valence']):\n",
        "    df['mood_score'] = (df['energy'] + df['valence']) / 2\n",
        "    print(\"Mood score created (energy + valence)\")\n",
        "\n",
        "if all(col in df.columns for col in ['acousticness', 'instrumentalness']):\n",
        "    df['acoustic_instrumental'] = df['acousticness'] * df['instrumentalness']\n",
        "    print(\"Acoustic-instrumental interaction created\")\n",
        "\n",
        "# Popularity categories\n",
        "if 'track_popularity' in df.columns:\n",
        "    df['popularity_category'] = pd.cut(df['track_popularity'],\n",
        "                                     bins=[0, 20, 40, 60, 80, 100],\n",
        "                                     labels=['Very Low', 'Low', 'Medium', 'High', 'Very High'])\n",
        "    print(\"Popularity categories created\")\n"
      ]
    },
    {
      "cell_type": "markdown",
      "metadata": {
        "id": "wRXNiq0_-s07"
      },
      "source": [
        "## VISUALIZATION FUNCTIONS\n"
      ]
    },
    {
      "cell_type": "code",
      "execution_count": 20,
      "metadata": {
        "colab": {
          "base_uri": "https://localhost:8080/",
          "height": 1000
        },
        "id": "Al7P7Y6z-oAS",
        "outputId": "1f536caf-f594-4523-a876-7d0520a4a3b8"
      },
      "outputs": [
        {
          "data": {
            "image/png": "[encoded data removed]",
            "text/plain": [
              "<Figure size 1000x1200 with 4 Axes>"
            ]
          },
          "metadata": {},
          "output_type": "display_data"
        }
      ],
      "source": [
        "# Set up the plotting\n",
        "fig, axes = plt.subplots(4, 3, figsize=(10, 12),constrained_layout=True)\n",
        "fig.suptitle('Spotify Dataset - Comprehensive EDA', fontsize=20, fontweight='bold')\n",
        "\n",
        "# 2. Distribution of target variable\n",
        "if 'track_popularity' in df.columns:\n",
        "    sns.histplot(data=df, x='track_popularity', bins=30, kde=True, ax=axes[0,1])\n",
        "    axes[0,1].set_title('Track Popularity Distribution')\n",
        "\n",
        "# 3. Genre distribution\n",
        "if 'playlist_genre' in df.columns:\n",
        "    genre_counts = df['playlist_genre'].value_counts()\n",
        "    sns.barplot(x=genre_counts.values, y=genre_counts.index, ax=axes[0,2])\n",
        "    axes[0,2].set_title('Genre Distribution')\n",
        "\n",
        "# 4. Energy vs Valence scatter\n",
        "if all(col in df.columns for col in ['energy', 'valence', 'playlist_genre']):\n",
        "    sns.scatterplot(data=df.sample(1000), x='energy', y='valence',\n",
        "                   hue='playlist_genre', alpha=0.7, ax=axes[1,0])\n",
        "    axes[1,0].set_title('Energy vs Valence by Genre')\n",
        "\n",
        "# 5. Popularity by genre boxplot\n",
        "if all(col in df.columns for col in ['playlist_genre', 'track_popularity']):\n",
        "    sns.boxplot(data=df, x='playlist_genre', y='track_popularity', ax=axes[1,1])\n",
        "    axes[1,1].tick_params(axis='x', rotation=45)\n",
        "    axes[1,1].set_title('Popularity by Genre')\n",
        "\n",
        "# 6. Audio features distribution\n",
        "audio_features_subset = ['danceability', 'energy', 'valence', 'acousticness']\n",
        "df[audio_features_subset].hist(bins=30, ax=axes[1,2], layout=(2,2))\n",
        "axes[1,2].set_title('Audio Features Distribution')\n",
        "\n",
        "# 7. Tempo distribution\n",
        "if 'tempo' in df.columns:\n",
        "    sns.histplot(data=df, x='tempo', bins=50, kde=True, ax=axes[2,0])\n",
        "    axes[2,0].set_title('Tempo Distribution')\n",
        "\n",
        "# 8. Duration analysis\n",
        "if 'duration_ms' in df.columns:\n",
        "    df['duration_minutes'] = df['duration_ms'] / 60000\n",
        "    sns.histplot(data=df, x='duration_minutes', bins=50, kde=True, ax=axes[2,1])\n",
        "    axes[2,1].set_title('Song Duration Distribution')\n",
        "    axes[2,1].set_xlim(0, 10)  # Focus on reasonable durations\n",
        "\n",
        "# 9. Yearly trends\n",
        "if 'release_year' in df.columns:\n",
        "    yearly_popularity = df.groupby('release_year')['track_popularity'].mean()\n",
        "    yearly_popularity.plot(ax=axes[2,2])\n",
        "    axes[2,2].set_title('Average Popularity by Release Year')\n",
        "    axes[2,2].set_xlabel('Release Year')\n",
        "\n",
        "# 10. Loudness vs Energy\n",
        "if all(col in df.columns for col in ['loudness', 'energy']):\n",
        "    sns.scatterplot(data=df.sample(1000), x='loudness', y='energy',\n",
        "                   alpha=0.6, ax=axes[3,0])\n",
        "    axes[3,0].set_title('Loudness vs Energy')\n",
        "\n",
        "# 11. Speechiness vs Instrumentalness\n",
        "if all(col in df.columns for col in ['speechiness', 'instrumentalness']):\n",
        "    sns.scatterplot(data=df.sample(1000), x='speechiness', y='instrumentalness',\n",
        "                   alpha=0.6, ax=axes[3,1])\n",
        "    axes[3,1].set_title('Speechiness vs Instrumentalness')\n",
        "\n",
        "# 12. Mode distribution\n",
        "if 'mode' in df.columns:\n",
        "    mode_counts = df['mode'].value_counts()\n",
        "    sns.barplot(x=mode_counts.index, y=mode_counts.values, ax=axes[3,2])\n",
        "    axes[3,2].set_title('Mode Distribution (0=Minor, 1=Major)')\n",
        "\n",
        "for ax in axes.flat:\n",
        "    ax.title.set_fontsize(10)\n",
        "    ax.tick_params(axis='both', labelsize=8)\n",
        "\n",
        "plt.tight_layout(pad=1.0)\n",
        "plt.show()\n"
      ]
    },
    {
      "cell_type": "markdown",
      "metadata": {
        "id": "kJZW9g1L-4ue"
      },
      "source": [
        "## Feature Importance Analysis"
      ]
    },
    {
      "cell_type": "code",
      "execution_count": 12,
      "metadata": {
        "colab": {
          "base_uri": "https://localhost:8080/"
        },
        "id": "mzNXnWGt-ygh",
        "outputId": "276e223d-7d32-4cd9-b953-e3f880fd82c4"
      },
      "outputs": [
        {
          "name": "stdout",
          "output_type": "stream",
          "text": [
            "Feature correlation with popularity:\n",
            "instrumentalness    0.263147\n",
            "acousticness        0.232679\n",
            "loudness            0.217100\n",
            "energy              0.194709\n",
            "danceability        0.128388\n",
            "valence             0.096816\n",
            "tempo               0.059866\n",
            "key                 0.029174\n",
            "liveness            0.022258\n",
            "duration_ms         0.021463\n",
            "speechiness         0.019250\n",
            "time_signature      0.003242\n",
            "mode                0.003091\n",
            "Name: track_popularity, dtype: float64\n"
          ]
        }
      ],
      "source": [
        "if 'track_popularity' in df.columns:\n",
        "    # Correlation with target\n",
        "    target_corr = df[audio_features + ['track_popularity']].corr()['track_popularity'].abs().sort_values(ascending=False)\n",
        "    print(\"Feature correlation with popularity:\")\n",
        "    print(target_corr.drop('track_popularity'))"
      ]
    },
    {
      "cell_type": "markdown",
      "metadata": {
        "id": "6ORT2hEb-8ew"
      },
      "source": [
        "## Preferred Columns for Feature Selection"
      ]
    },
    {
      "cell_type": "code",
      "execution_count": 13,
      "metadata": {
        "colab": {
          "base_uri": "https://localhost:8080/"
        },
        "id": "_rPJayoa-7fk",
        "outputId": "73c5a078-1378-4fb1-9b79-3556080fdfe1"
      },
      "outputs": [
        {
          "name": "stdout",
          "output_type": "stream",
          "text": [
            "FEATURES TO KEEP:\n",
            "==============================\n",
            "Audio Features: ['energy', 'danceability', 'valence', 'acousticness', 'instrumentalness', 'speechiness', 'liveness', 'loudness', 'tempo']\n",
            "Target: track_popularity\n",
            "Categorical: ['playlist_genre', 'playlist_subgenre']\n",
            "Temporal: track_album_release_date\n",
            "Duration: duration_ms\n",
            "FEATURES TO DROP:\n",
            "=========================\n",
            " Identifiers: ['track_id', 'track_href', 'uri', 'analysis_url', 'id', 'track_album_id', 'playlist_id', 'type']\n",
            " Text/Names: ['track_name', 'track_artist', 'track_album_name', 'playlist_name']\n",
            " Low variance: mode\n",
            " Musical key (likely low predictive power)\n",
            " Derived feature: popularity_label\n",
            "SUMMARY:\n",
            "Keep: 14 features\n",
            "Drop: 15 features\n",
            "Original: 36 features\n",
            "Reduced: 14 features\n",
            "Final dataset shape: (4830, 14)\n"
          ]
        }
      ],
      "source": [
        "print(\"FEATURES TO KEEP:\")\n",
        "print(\"=\" * 30)\n",
        "\n",
        "keep_features = []\n",
        "drop_features = []\n",
        "\n",
        "# Audio features (core predictive features)\n",
        "audio_core = ['energy', 'danceability', 'valence', 'acousticness',\n",
        "              'instrumentalness', 'speechiness', 'liveness', 'loudness', 'tempo']\n",
        "keep_features.extend(audio_core)\n",
        "print(f\"Audio Features: {audio_core}\")\n",
        "\n",
        "# Target variable\n",
        "if 'track_popularity' in df.columns:\n",
        "    keep_features.append('track_popularity')\n",
        "    print(\"Target: track_popularity\")\n",
        "\n",
        "# Important categorical\n",
        "categorical_keep = ['playlist_genre', 'playlist_subgenre']\n",
        "keep_features.extend(categorical_keep)\n",
        "print(f\"Categorical: {categorical_keep}\")\n",
        "\n",
        "# Temporal\n",
        "if 'track_album_release_date' in df.columns:\n",
        "    keep_features.append('track_album_release_date')\n",
        "    print(\"Temporal: track_album_release_date\")\n",
        "\n",
        "# Duration\n",
        "if 'duration_ms' in df.columns:\n",
        "    keep_features.append('duration_ms')\n",
        "    print(\"Duration: duration_ms\")\n",
        "\n",
        "print(\"FEATURES TO DROP:\")\n",
        "print(\"=\" * 25)\n",
        "\n",
        "# Identifier columns (high cardinality, no predictive value)\n",
        "identifiers = ['track_id', 'track_href', 'uri', 'analysis_url', 'id',\n",
        "               'track_album_id', 'playlist_id', 'type']\n",
        "drop_features.extend(identifiers)\n",
        "print(f\" Identifiers: {identifiers}\")\n",
        "\n",
        "# Redundant text columns\n",
        "text_redundant = ['track_name', 'track_artist', 'track_album_name', 'playlist_name']\n",
        "drop_features.extend(text_redundant)\n",
        "print(f\" Text/Names: {text_redundant}\")\n",
        "\n",
        "# Low variance or redundant features\n",
        "if 'mode' in df.columns and df['mode'].nunique() <= 2:\n",
        "    drop_features.append('mode')\n",
        "    print(\" Low variance: mode\")\n",
        "\n",
        "if 'time_signature' in df.columns and df['time_signature'].nunique() <= 3:\n",
        "    drop_features.append('time_signature')\n",
        "    print(\" Low variance: time_signature\")\n",
        "\n",
        "if 'key' in df.columns:\n",
        "    drop_features.append('key')\n",
        "    print(\" Musical key (likely low predictive power)\")\n",
        "\n",
        "# Popularity label if it's derived from track_popularity\n",
        "if 'popularity_label' in df.columns:\n",
        "    drop_features.append('popularity_label')\n",
        "    print(\" Derived feature: popularity_label\")\n",
        "\n",
        "print(f\"SUMMARY:\")\n",
        "print(f\"Keep: {len(keep_features)} features\")\n",
        "print(f\"Drop: {len(drop_features)} features\")\n",
        "print(f\"Original: {df.shape[1]} features\")\n",
        "print(f\"Reduced: {len(keep_features)} features\")\n",
        "\n",
        "# print(\"\\n# Create cleaned dataset\")\n",
        "# print(\"df_clean = df[keep_features].copy()\")\n",
        "# print(\"\\n# Handle missing values\")\n",
        "# print(\"df_clean = df_clean.dropna()\")\n",
        "print(f\"Final dataset shape: {df[keep_features].dropna().shape}\")\n"
      ]
    },
    {
      "cell_type": "markdown",
      "metadata": {
        "id": "7QNZ0FtNBKww"
      },
      "source": [
        "## Feature Engineering based on EDA"
      ]
    },
    {
      "cell_type": "code",
      "execution_count": 14,
      "metadata": {
        "colab": {
          "base_uri": "https://localhost:8080/"
        },
        "id": "nbKYC9wF_B_F",
        "outputId": "6c179c50-50db-4584-c842-9f4be08b92ba"
      },
      "outputs": [
        {
          "name": "stdout",
          "output_type": "stream",
          "text": [
            " Feature engineering completed!\n",
            "   - Original features: 36\n",
            "   - New features added: 8\n"
          ]
        }
      ],
      "source": [
        "def feature_engineering(df):\n",
        "    df_fe = df.copy()\n",
        "\n",
        "    # Extract year from release date\n",
        "    df_fe['track_album_release_date'] = pd.to_datetime(df_fe['track_album_release_date'], errors='coerce')\n",
        "    df_fe['release_year'] = df_fe['track_album_release_date'].dt.year\n",
        "    df_fe['release_decade'] = (df_fe['release_year'] // 10) * 10\n",
        "\n",
        "    # Calculate age of track (current year - release year)\n",
        "    current_year = datetime.now().year\n",
        "    df_fe['track_age'] = current_year - df_fe['release_year']\n",
        "\n",
        "    # Duration in minutes\n",
        "    df_fe['duration_minutes'] = df_fe['duration_ms'] / 60000\n",
        "\n",
        "    # Create duration categories\n",
        "    df_fe['duration_category'] = pd.cut(df_fe['duration_minutes'],\n",
        "                                       bins=[0, 2.5, 3.5, 4.5, float('inf')],\n",
        "                                       labels=['Short', 'Medium', 'Long', 'Very_Long'])\n",
        "\n",
        "    # Audio feature combinations (based on music theory)\n",
        "    df_fe['energy_valence'] = df_fe['energy'] * df_fe['valence']\n",
        "    df_fe['acoustic_instrumental'] = df_fe['acousticness'] * df_fe['instrumentalness']\n",
        "    df_fe['danceability_energy'] = df_fe['danceability'] * df_fe['energy']\n",
        "    df_fe['mood_score'] = (df_fe['energy'] + df_fe['valence'] + df_fe['danceability']) / 3\n",
        "\n",
        "    # Loudness categories (typical ranges)\n",
        "    df_fe['loudness_category'] = pd.cut(df_fe['loudness'],\n",
        "                                       bins=[-float('inf'), -10, -5, 0, float('inf')],\n",
        "                                       labels=['Quiet', 'Medium', 'Loud', 'Very_Loud'])\n",
        "\n",
        "    # Tempo categories (BPM ranges)\n",
        "    df_fe['tempo_category'] = pd.cut(df_fe['tempo'],\n",
        "                                    bins=[0, 90, 120, 140, 180, float('inf')],\n",
        "                                    labels=['Slow', 'Medium', 'Upbeat', 'Fast', 'Very_Fast'])\n",
        "\n",
        "    # Audio complexity score\n",
        "    df_fe['audio_complexity'] = (df_fe['speechiness'] + df_fe['instrumentalness'] +\n",
        "                                df_fe['acousticness'] + df_fe['liveness']) / 4\n",
        "\n",
        "    # Mainstream score (inverse of complexity + high danceability/energy)\n",
        "    df_fe['mainstream_score'] = (df_fe['danceability'] + df_fe['energy'] + df_fe['valence'] -\n",
        "                                df_fe['audio_complexity']) / 3\n",
        "\n",
        "    print(\" Feature engineering completed!\")\n",
        "    print(f\"   - Original features: {df.shape[1]}\")\n",
        "    print(f\"   - New features added: {df_fe.shape[1] - df.shape[1]}\")\n",
        "\n",
        "    return df_fe\n",
        "\n",
        "# Apply feature engineering\n",
        "df_engineered = feature_engineering(df)"
      ]
    },
    {
      "cell_type": "markdown",
      "metadata": {
        "id": "WAsjfhAzBR1U"
      },
      "source": [
        "## Handling Missing values"
      ]
    },
    {
      "cell_type": "code",
      "execution_count": 15,
      "metadata": {
        "colab": {
          "base_uri": "https://localhost:8080/"
        },
        "id": "NdduvOBABPMR",
        "outputId": "ad212cbd-48e6-4868-c2db-d415c64ef5d8"
      },
      "outputs": [
        {
          "name": "stdout",
          "output_type": "stream",
          "text": [
            "Missing values before cleaning:\n",
            "energy                        1\n",
            "tempo                         1\n",
            "danceability                  1\n",
            "loudness                      1\n",
            "liveness                      1\n",
            "valence                       1\n",
            "time_signature                1\n",
            "speechiness                   1\n",
            "track_href                    1\n",
            "uri                           1\n",
            "track_album_name              1\n",
            "analysis_url                  1\n",
            "track_album_release_date    138\n",
            "instrumentalness              1\n",
            "mode                          1\n",
            "key                           1\n",
            "duration_ms                   1\n",
            "acousticness                  1\n",
            "id                            1\n",
            "type                          1\n",
            "release_year                138\n",
            "duration_minutes              1\n",
            "duration_category             1\n",
            "mood_score                    1\n",
            "acoustic_instrumental         1\n",
            "release_decade              138\n",
            "track_age                   138\n",
            "energy_valence                1\n",
            "danceability_energy           1\n",
            "loudness_category             1\n",
            "tempo_category                1\n",
            "audio_complexity              1\n",
            "mainstream_score              1\n",
            "dtype: int64\n",
            "Filled energy with median: 0.633\n",
            "Filled tempo with median: 118.0595\n",
            "Filled danceability with median: 0.653\n",
            "Filled loudness with median: -7.191\n",
            "Filled liveness with median: 0.118\n",
            "Filled valence with median: 0.483\n",
            "Filled time_signature with median: 4.0\n",
            "Filled speechiness with median: 0.0561\n",
            "Filled instrumentalness with median: 9.13e-05\n",
            "Filled mode with median: 1.0\n",
            "Filled key with median: 5.0\n",
            "Filled duration_ms with median: 194866.5\n",
            "Filled acousticness with median: 0.2245\n",
            "Filled release_year with median: 2022.0\n",
            "Filled duration_minutes with median: 3.247775\n",
            "Filled mood_score with median: 0.5973333333333333\n",
            "Filled acoustic_instrumental with median: 7.7424e-06\n",
            "Filled release_decade with median: 2020.0\n",
            "Filled track_age with median: 3.0\n",
            "Filled energy_valence with median: 0.296205\n",
            "Filled danceability_energy with median: 0.41006000000000004\n",
            "Filled audio_complexity with median: 0.15842875\n",
            "Filled mainstream_score with median: 0.5455404666666667\n",
            "Filled track_href with mode: https://api.spotify.com/v1/tracks/13VXuHw3O8Yt7VwRIDqSo4\n",
            "Filled uri with mode: spotify:track:13VXuHw3O8Yt7VwRIDqSo4\n",
            "Filled track_album_name with mode: Sincerely, Benson\n",
            "Filled analysis_url with mode: https://api.spotify.com/v1/audio-analysis/13VXuHw3O8Yt7VwRIDqSo4\n",
            "Filled id with mode: 13VXuHw3O8Yt7VwRIDqSo4\n",
            "Filled type with mode: audio_features\n",
            "Filled duration_category with mode: Medium\n",
            "Filled loudness_category with mode: Medium\n",
            "Filled tempo_category with mode: Medium\n",
            "Missing values handled! Remaining nulls: 138\n"
          ]
        }
      ],
      "source": [
        "def handle_missing_values(df):\n",
        "    df_clean = df.copy()\n",
        "\n",
        "    print(\"Missing values before cleaning:\")\n",
        "    missing_before = df_clean.isnull().sum()\n",
        "    print(missing_before[missing_before > 0])\n",
        "\n",
        "    # For numerical features - use median imputation as better dealing with outliers\n",
        "    numerical_cols = df_clean.select_dtypes(include=[np.number]).columns\n",
        "    for col in numerical_cols:\n",
        "        if df_clean[col].isnull().sum() > 0:\n",
        "            median_val = df_clean[col].median()\n",
        "            df_clean[col].fillna(median_val, inplace=True)\n",
        "            print(f\"Filled {col} with median: {median_val}\")\n",
        "\n",
        "    # For categorical features - use mode imputation as it is good to use with categorial values\n",
        "    categorical_cols = df_clean.select_dtypes(include=['object', 'category']).columns\n",
        "    for col in categorical_cols:\n",
        "        if df_clean[col].isnull().sum() > 0:\n",
        "            mode_val = df_clean[col].mode()[0]\n",
        "            df_clean[col].fillna(mode_val, inplace=True)\n",
        "            print(f\"Filled {col} with mode: {mode_val}\")\n",
        "\n",
        "    print(f\"Missing values handled! Remaining nulls: {df_clean.isnull().sum().sum()}\")\n",
        "    return df_clean\n",
        "\n",
        "df_clean = handle_missing_values(df_engineered)\n"
      ]
    },
    {
      "cell_type": "markdown",
      "metadata": {
        "id": "oIcn2QyYBX4u"
      },
      "source": [
        "## Defining Finalized Columns for Model Training"
      ]
    },
    {
      "cell_type": "code",
      "execution_count": null,
      "metadata": {
        "colab": {
          "base_uri": "https://localhost:8080/"
        },
        "id": "8wDGzUamBftp",
        "outputId": "c2796a4d-ae35-4fc7-dc42-eafbe5abc563"
      },
      "outputs": [
        {
          "name": "stdout",
          "output_type": "stream",
          "text": [
            "Selected features (21):\n",
            "Audio features: 9\n",
            "Engineered features: 7\n",
            "Categorical features: 5\n",
            "Target: track_popularity\n"
          ]
        }
      ],
      "source": [
        "# Define feature categories\n",
        "AUDIO_FEATURES = [\n",
        "    'energy', 'danceability', 'valence', 'acousticness', 'instrumentalness',\n",
        "    'speechiness', 'liveness', 'loudness', 'tempo'\n",
        "]\n",
        "\n",
        "SONG_FEATURES = [\n",
        "    'energy_valence', 'danceability_energy', 'mood_score', 'mainstream_score',\n",
        "    'audio_complexity', 'duration_minutes', 'track_age'\n",
        "]\n",
        "\n",
        "CATEGORICAL_FEATURES = [\n",
        "    'playlist_genre', 'playlist_subgenre', 'duration_category',\n",
        "    'loudness_category', 'tempo_category'\n",
        "]\n",
        "\n",
        "TARGET = 'track_popularity'\n",
        "\n",
        "# Select features for modeling\n",
        "selected_features = AUDIO_FEATURES + SONG_FEATURES + CATEGORICAL_FEATURES\n",
        "X = df_clean[selected_features].copy()\n",
        "y = df_clean[TARGET].copy()\n",
        "\n",
        "print(f\"Selected features ({len(selected_features)}):\")\n",
        "print(f\"Audio features: {len(AUDIO_FEATURES)}\")\n",
        "print(f\"SONG features: {len(SONG_FEATURES)}\")\n",
        "print(f\"Categorical features: {len(CATEGORICAL_FEATURES)}\")\n",
        "print(f\"Target: {TARGET}\")\n"
      ]
    },
    {
      "cell_type": "markdown",
      "metadata": {
        "id": "yfgJCJfcBjqw"
      },
      "source": [
        "## TRAIN TEST SPLIT"
      ]
    },
    {
      "cell_type": "code",
      "execution_count": null,
      "metadata": {
        "colab": {
          "base_uri": "https://localhost:8080/"
        },
        "id": "48cdvim5Bkkg",
        "outputId": "e3452b3b-34b3-4e32-8163-5e59338e43ed"
      },
      "outputs": [
        {
          "name": "stdout",
          "output_type": "stream",
          "text": [
            "Numerical features: ['energy', 'danceability', 'valence', 'acousticness', 'instrumentalness', 'speechiness', 'liveness', 'loudness', 'tempo', 'energy_valence', 'danceability_energy', 'mood_score', 'mainstream_score', 'audio_complexity', 'duration_minutes', 'track_age']\n",
            "Categorical features: ['playlist_genre', 'playlist_subgenre', 'duration_category', 'loudness_category', 'tempo_category']\n",
            "Doing TRAIN-TEST SPLIT\n",
            "Dataset shape after removing missing targets: (4831, 21)\n",
            "Training set: (3864, 21)\n",
            "Test set: (967, 21)\n"
          ]
        }
      ],
      "source": [
        "numerical_features = AUDIO_FEATURES + SONG_FEATURES\n",
        "categorical_features = CATEGORICAL_FEATURES\n",
        "\n",
        "print(f\"Numerical features: {numerical_features}\")\n",
        "print(f\"Categorical features: {categorical_features}\")\n",
        "\n",
        "print(\"Doing TRAIN-TEST SPLIT\")\n",
        "# Remove rows with missing target\n",
        "valid_idx = y.notna()\n",
        "X = X[valid_idx]\n",
        "y = y[valid_idx]\n",
        "\n",
        "print(f\"Dataset shape after removing missing targets: {X.shape}\")\n",
        "\n",
        "# Split the data\n",
        "X_train, X_test, y_train, y_test = train_test_split(\n",
        "X, y, test_size=0.2, random_state=42, stratify=pd.cut(y, bins=5)\n",
        ")\n",
        "\n",
        "print(f\"Training set: {X_train.shape}\")\n",
        "print(f\"Test set: {X_test.shape}\")\n"
      ]
    },
    {
      "cell_type": "markdown",
      "metadata": {
        "id": "ec5R1UtaBQrf"
      },
      "source": [
        "## Normalizing Data"
      ]
    },
    {
      "cell_type": "code",
      "execution_count": 18,
      "metadata": {
        "colab": {
          "base_uri": "https://localhost:8080/"
        },
        "id": "dgO0wcpNBsgH",
        "outputId": "7f54cf1f-247b-4bf5-9641-f78af6b1f866"
      },
      "outputs": [
        {
          "name": "stdout",
          "output_type": "stream",
          "text": [
            "Processed training set shape: (3864, 143)\n",
            "Processed test set shape: (967, 143)\n"
          ]
        }
      ],
      "source": [
        "# Handle numerical features\n",
        "X_train_num = X_train[numerical_features].fillna(X_train[numerical_features].median())\n",
        "X_test_num = X_test[numerical_features].fillna(X_train[numerical_features].median())\n",
        "\n",
        "# Standardize numerical features\n",
        "scaler = StandardScaler()\n",
        "X_train_num_scaled = scaler.fit_transform(X_train_num)\n",
        "X_test_num_scaled = scaler.transform(X_test_num)\n",
        "\n",
        "# Handle categorical features with one-hot encoding\n",
        "X_train_cat = X_train[categorical_features].fillna(X_train[categorical_features].mode().iloc[0])\n",
        "X_test_cat = X_test[categorical_features].fillna(X_train[categorical_features].mode().iloc[0])\n",
        "\n",
        "# One-hot encode categorical features\n",
        "encoder = OneHotEncoder(drop='first', sparse_output=False, handle_unknown='ignore')\n",
        "X_train_cat_encoded = encoder.fit_transform(X_train_cat)\n",
        "X_test_cat_encoded = encoder.transform(X_test_cat)\n",
        "\n",
        "# Combine numerical and categorical features\n",
        "X_train_processed = np.hstack([X_train_num_scaled, X_train_cat_encoded])\n",
        "X_test_processed = np.hstack([X_test_num_scaled, X_test_cat_encoded])\n",
        "\n",
        "print(f\"Processed training set shape: {X_train_processed.shape}\")\n",
        "print(f\"Processed test set shape: {X_test_processed.shape}\")"
      ]
    },
    {
      "cell_type": "markdown",
      "metadata": {
        "id": "D4OZ7bOpLQ1B"
      },
      "source": [
        "## Model 1: Random Forrest Regressor\n",
        "\n",
        "\n",
        "\n"
      ]
    },
    {
      "cell_type": "code",
      "execution_count": 25,
      "metadata": {
        "colab": {
          "base_uri": "https://localhost:8080/"
        },
        "id": "EmsmLc_3LPBv",
        "outputId": "dd9e6f25-51fd-4671-e924-3acad15b3aaf"
      },
      "outputs": [
        {
          "name": "stdout",
          "output_type": "stream",
          "text": [
            "Train_R2: 0.9465772761074054\n",
            "Test_R2: 0.6478802233733583\n",
            "Train_RMSE: 4.58630369501432\n",
            "Test_RMSE: 11.726126055175413\n",
            "Train_MAE: 3.2969690303657697\n",
            "Test_MAE: 8.614176146156497\n",
            "CV_R2_Mean: 0.6295914900801248\n",
            "CV_R2_Std: 0.01709384541567658\n"
          ]
        }
      ],
      "source": [
        "rf_model = RandomForestRegressor(n_estimators=50, random_state=42, n_jobs=-1)\n",
        "# Train the model\n",
        "rf_model.fit(X_train_processed, y_train)\n",
        "# Making predictions\n",
        "y_train_pred = rf_model.predict(X_train_processed)\n",
        "y_test_pred = rf_model.predict(X_test_processed)\n",
        "\n",
        "#Metrics\n",
        "rf_metrics = {\n",
        "    'Train_R2': r2_score(y_train, y_train_pred),\n",
        "    'Test_R2': r2_score(y_test, y_test_pred),\n",
        "    'Train_RMSE': np.sqrt(mean_squared_error(y_train, y_train_pred)),\n",
        "    'Test_RMSE': np.sqrt(mean_squared_error(y_test, y_test_pred)),\n",
        "    'Train_MAE': mean_absolute_error(y_train, y_train_pred),\n",
        "    'Test_MAE': mean_absolute_error(y_test, y_test_pred),\n",
        "}\n",
        "\n",
        "#cross validation\n",
        "cv_scores = cross_val_score(rf_model, X_train_processed, y_train, cv=5, scoring='r2')\n",
        "rf_metrics['CV_R2_Mean'] = cv_scores.mean()\n",
        "rf_metrics['CV_R2_Std'] = cv_scores.std()\n",
        "\n",
        "#metrics print\n",
        "for metric, value in rf_metrics.items():\n",
        "    print(f\"{metric}: {value}\")\n",
        "\n",
        "# Store results for later comparison\n",
        "rf_results = rf_metrics\n",
        "rf_predictions = y_test_pred"
      ]
    },
    {
      "cell_type": "markdown",
      "metadata": {
        "id": "G9apmuBsMhCp"
      },
      "source": [
        "## Model 2: Gradient Boosting Regressor"
      ]
    },
    {
      "cell_type": "code",
      "execution_count": 24,
      "metadata": {
        "colab": {
          "base_uri": "https://localhost:8080/"
        },
        "id": "G5py1oSfMgrE",
        "outputId": "b1fbfaeb-fe4d-443c-b668-76dda311f25c"
      },
      "outputs": [
        {
          "name": "stdout",
          "output_type": "stream",
          "text": [
            "Train_R2: 0.9616916250487332\n",
            "Test_R2: 0.6899878785451437\n",
            "Train_RMSE: 3.8837088098388044\n",
            "Test_RMSE: 11.002685193625831\n",
            "Train_MAE: 2.845330449662977\n",
            "Test_MAE: 7.856815857341771\n",
            "CV_R2_Mean: 0.6647400513456077\n",
            "CV_R2_Std: 0.008908285466613673\n"
          ]
        }
      ],
      "source": [
        "from sklearn.ensemble import GradientBoostingRegressor\n",
        "\n",
        "gd_model = GradientBoostingRegressor(\n",
        "    n_estimators=200,\n",
        "    learning_rate=0.2,\n",
        "    max_depth=6,\n",
        "    random_state=42\n",
        ")\n",
        "gd_model.fit(X_train_processed, y_train)\n",
        "\n",
        "# Making predictions\n",
        "y_train_pred = gd_model.predict(X_train_processed)\n",
        "y_test_pred = gd_model.predict(X_test_processed)\n",
        "\n",
        "#Metrics\n",
        "gd_metrics = {\n",
        "    'Train_R2': r2_score(y_train, y_train_pred),\n",
        "    'Test_R2': r2_score(y_test, y_test_pred),\n",
        "    'Train_RMSE': np.sqrt(mean_squared_error(y_train, y_train_pred)),\n",
        "    'Test_RMSE': np.sqrt(mean_squared_error(y_test, y_test_pred)),\n",
        "    'Train_MAE': mean_absolute_error(y_train, y_train_pred),\n",
        "    'Test_MAE': mean_absolute_error(y_test, y_test_pred),\n",
        "}\n",
        "\n",
        "#cross validation\n",
        "cv_scores = cross_val_score(gd_model, X_train_processed, y_train, cv=5, scoring='r2')\n",
        "gd_metrics['CV_R2_Mean'] = cv_scores.mean()\n",
        "gd_metrics['CV_R2_Std'] = cv_scores.std()\n",
        "\n",
        "#metrics print\n",
        "for metric, value in gd_metrics.items():\n",
        "    print(f\"{metric}: {value}\")\n",
        "\n",
        "# Store results for later comparison\n",
        "gd_results = gd_metrics\n",
        "gd_predictions = y_test_pred"
      ]
    },
    {
      "cell_type": "markdown",
      "metadata": {
        "id": "g9RbNvBuM8vc"
      },
      "source": [
        "## Model 3: Ridge Regressor"
      ]
    },
    {
      "cell_type": "code",
      "execution_count": 26,
      "metadata": {
        "colab": {
          "base_uri": "https://localhost:8080/"
        },
        "id": "illfXmIQM8da",
        "outputId": "1ba9571d-667f-4afc-f3cf-22a89237663f"
      },
      "outputs": [
        {
          "name": "stdout",
          "output_type": "stream",
          "text": [
            "Train_R2: 0.661711166452126\n",
            "Test_R2: 0.643756569645187\n",
            "Train_RMSE: 11.54100493493734\n",
            "Test_RMSE: 11.794588181476971\n",
            "Train_MAE: 8.273865989055226\n",
            "Test_MAE: 8.561511370830576\n",
            "CV_R2_Mean: 0.6409678376657352\n",
            "CV_R2_Std: 0.010929753343122673\n"
          ]
        }
      ],
      "source": [
        "ridge_model = Ridge(random_state=42)\n",
        "# Train the model\n",
        "ridge_model.fit(X_train_processed, y_train)\n",
        "# Making predictions\n",
        "y_train_pred = ridge_model.predict(X_train_processed)\n",
        "y_test_pred = ridge_model.predict(X_test_processed)\n",
        "\n",
        "#Metrics\n",
        "ridge_metrics = {\n",
        "    'Train_R2': r2_score(y_train, y_train_pred),\n",
        "    'Test_R2': r2_score(y_test, y_test_pred),\n",
        "    'Train_RMSE': np.sqrt(mean_squared_error(y_train, y_train_pred)),\n",
        "    'Test_RMSE': np.sqrt(mean_squared_error(y_test, y_test_pred)),\n",
        "    'Train_MAE': mean_absolute_error(y_train, y_train_pred),\n",
        "    'Test_MAE': mean_absolute_error(y_test, y_test_pred),\n",
        "}\n",
        "\n",
        "#cross validation\n",
        "cv_scores = cross_val_score(ridge_model, X_train_processed, y_train, cv=5, scoring='r2')\n",
        "ridge_metrics['CV_R2_Mean'] = cv_scores.mean()\n",
        "ridge_metrics['CV_R2_Std'] = cv_scores.std()\n",
        "\n",
        "#metrics print\n",
        "for metric, value in ridge_metrics.items():\n",
        "    print(f\"{metric}: {value}\")\n",
        "\n",
        "# Store results for later comparison\n",
        "ridge_results = ridge_metrics\n",
        "ridge_predictions = y_test_pred"
      ]
    },
    {
      "cell_type": "markdown",
      "metadata": {
        "id": "PzIXok_BCStH"
      },
      "source": [
        "## Model Comparison Visualization"
      ]
    },
    {
      "cell_type": "code",
      "execution_count": 27,
      "metadata": {
        "colab": {
          "base_uri": "https://localhost:8080/",
          "height": 1000
        },
        "id": "3APbtShKCQlO",
        "outputId": "9fb618fe-00d6-4b2c-f215-e4a2ffca85db"
      },
      "outputs": [
        {
          "name": "stdout",
          "output_type": "stream",
          "text": [
            "Best model: Gradient Boosting Regressor (Test R²: 0.6900)\n"
          ]
        },
        {
          "data": {
            "image/png": "[encoded data removed]",
            "text/plain": [
              "<Figure size 1500x1200 with 4 Axes>"
            ]
          },
          "metadata": {},
          "output_type": "display_data"
        },
        {
          "name": "stdout",
          "output_type": "stream",
          "text": [
            "MODEL COMPARISON SUMMARY\n",
            "--------------------------------------------------\n",
            "Model                Test R²    Test RMSE    Test MAE    \n",
            "------------------------------------------------------\n",
            "Random Forest Regressor 0.6479     11.7261      8.6142      \n",
            "Gradient Boosting Regressor 0.6900     11.0027      7.8568      \n",
            "Ridge Regression     0.6438     11.7946      8.5615      \n",
            "Best performing model: Gradient Boosting Regressor\n",
            "Test R²: 0.6900\n",
            "Test RMSE: 11.0027\n",
            "Cross-validation R²: 0.6647 (±0.0089)\n"
          ]
        }
      ],
      "source": [
        "results = {\n",
        "    'Random Forest Regressor': rf_results,\n",
        "    'Gradient Boosting Regressor': gd_results,\n",
        "    'Ridge Regression': ridge_results\n",
        "}\n",
        "\n",
        "predictions = {\n",
        "    'Random Forest Regressor': rf_predictions,\n",
        "    'Gradient Boosting Regressor': gd_predictions,\n",
        "    'Ridge Regression': ridge_predictions\n",
        "}\n",
        "\n",
        "# Find the best model based on Test R²\n",
        "best_model_name = max(results.keys(), key=lambda x: results[x]['Test_R2'])\n",
        "print(f\"Best model: {best_model_name} (Test R²: {results[best_model_name]['Test_R2']:.4f})\")\n",
        "\n",
        "# Create visualizations\n",
        "fig, axes = plt.subplots(2, 2, figsize=(15, 12))\n",
        "fig.suptitle('Model Performance Analysis', fontsize=16, fontweight='bold')\n",
        "\n",
        "# 1. Model comparison - R² Score\n",
        "models_names = list(results.keys())\n",
        "test_r2_scores = [results[name]['Test_R2'] for name in models_names]\n",
        "test_rmse_scores = [results[name]['Test_RMSE'] for name in models_names]\n",
        "\n",
        "bars1 = axes[0,0].barh(models_names, test_r2_scores, color=['#2E86AB', '#A23B72', '#F18F01'])\n",
        "axes[0,0].set_xlabel('R² Score')\n",
        "axes[0,0].set_title('Model Comparison - R² Score')\n",
        "axes[0,0].set_xlim(0, 1)\n",
        "\n",
        "# Add value labels on bars\n",
        "for i, bar in enumerate(bars1):\n",
        "    width = bar.get_width()\n",
        "    axes[0,0].text(width + 0.01, bar.get_y() + bar.get_height()/2,\n",
        "                   f'{width:.3f}', ha='left', va='center', fontsize=10)\n",
        "\n",
        "# 2. RMSE comparison\n",
        "bars2 = axes[0,1].barh(models_names, test_rmse_scores, color=['#2E86AB', '#A23B72', '#F18F01'])\n",
        "axes[0,1].set_xlabel('RMSE')\n",
        "axes[0,1].set_title('Model Comparison - RMSE')\n",
        "\n",
        "# Add value labels on bars\n",
        "for i, bar in enumerate(bars2):\n",
        "    width = bar.get_width()\n",
        "    axes[0,1].text(width + max(test_rmse_scores) * 0.01, bar.get_y() + bar.get_height()/2,\n",
        "                   f'{width:.3f}', ha='left', va='center', fontsize=10)\n",
        "\n",
        "# 3. Actual vs Predicted (best model)\n",
        "best_predictions = predictions[best_model_name]\n",
        "axes[1,0].scatter(y_test, best_predictions, alpha=0.6, color='#2E86AB')\n",
        "axes[1,0].plot([y_test.min(), y_test.max()], [y_test.min(), y_test.max()], 'r--', lw=2)\n",
        "axes[1,0].set_xlabel('Actual')\n",
        "axes[1,0].set_ylabel('Predicted')\n",
        "axes[1,0].set_title(f'Actual vs Predicted - {best_model_name}')\n",
        "\n",
        "# Add correlation coefficient\n",
        "corr_coef = np.corrcoef(y_test, best_predictions)[0, 1]\n",
        "axes[1,0].text(0.05, 0.95, f'Correlation: {corr_coef:.3f}',\n",
        "               transform=axes[1,0].transAxes, fontsize=10,\n",
        "               bbox=dict(boxstyle='round', facecolor='white', alpha=0.8))\n",
        "\n",
        "# 4. Residuals plot\n",
        "residuals = y_test - best_predictions\n",
        "axes[1,1].scatter(best_predictions, residuals, alpha=0.6, color='#A23B72')\n",
        "axes[1,1].axhline(y=0, color='r', linestyle='--', linewidth=2)\n",
        "axes[1,1].set_xlabel('Predicted')\n",
        "axes[1,1].set_ylabel('Residuals')\n",
        "axes[1,1].set_title(f'Residuals Plot - {best_model_name}')\n",
        "\n",
        "# Add grid to residuals plot\n",
        "axes[1,1].grid(True, alpha=0.3)\n",
        "\n",
        "plt.tight_layout()\n",
        "plt.show()\n",
        "\n",
        "# Print detailed comparison\n",
        "print(\"MODEL COMPARISON SUMMARY\")\n",
        "print(\"-\" * 50)\n",
        "print(f\"{'Model':<20} {'Test R²':<10} {'Test RMSE':<12} {'Test MAE':<12}\")\n",
        "print(\"-\" * 54)\n",
        "for name in models_names:\n",
        "    print(f\"{name:<20} {results[name]['Test_R2']:<10.4f} {results[name]['Test_RMSE']:<12.4f} {results[name]['Test_MAE']:<12.4f}\")\n",
        "\n",
        "print(f\"Best performing model: {best_model_name}\")\n",
        "print(f\"Test R²: {results[best_model_name]['Test_R2']:.4f}\")\n",
        "print(f\"Test RMSE: {results[best_model_name]['Test_RMSE']:.4f}\")\n",
        "print(f\"Cross-validation R²: {results[best_model_name]['CV_R2_Mean']:.4f} (±{results[best_model_name]['CV_R2_Std']:.4f})\")"
      ]
    },
    {
      "cell_type": "markdown",
      "metadata": {
        "id": "5uPTq_WD8ANh"
      },
      "source": [
        "## Save Model files"
      ]
    },
    {
      "cell_type": "code",
      "execution_count": 28,
      "metadata": {
        "colab": {
          "base_uri": "https://localhost:8080/"
        },
        "id": "-pK9XC798Hae",
        "outputId": "7ed5bc64-e903-4e09-9a2f-767d8127ec2c"
      },
      "outputs": [
        {
          "name": "stdout",
          "output_type": "stream",
          "text": [
            "Ridge model saved and info saved\n"
          ]
        }
      ],
      "source": [
        "joblib.dump(ridge_model, f'ridge_model.pkl')\n",
        "\n",
        "feature_info = {\n",
        "    'numerical_features': numerical_features,\n",
        "    'categorical_features': categorical_features,\n",
        "    'all_features': selected_features,\n",
        "    'target': TARGET,\n",
        "    'model_name': 'Ridge Regression',\n",
        "    'model_metrics': ridge_metrics\n",
        "}\n",
        "with open(\"ridge_feature_info.pkl\", 'wb') as f:\n",
        "    pickle.dump(feature_info, f)\n",
        "\n",
        "print(\"Ridge model saved and info saved\")"
      ]
    },
    {
      "cell_type": "code",
      "execution_count": 29,
      "metadata": {
        "colab": {
          "base_uri": "https://localhost:8080/"
        },
        "id": "pa0EDr0IOQVN",
        "outputId": "a6d36bf7-03df-45e0-ea66-acb29105eff8"
      },
      "outputs": [
        {
          "name": "stdout",
          "output_type": "stream",
          "text": [
            "Gradient boosting model saved and info saved\n"
          ]
        }
      ],
      "source": [
        "joblib.dump(gd_model, f'gd_model.pkl')\n",
        "\n",
        "feature_info = {\n",
        "    'numerical_features': numerical_features,\n",
        "    'categorical_features': categorical_features,\n",
        "    'all_features': selected_features,\n",
        "    'target': TARGET,\n",
        "    'model_name': 'Gradient Boosting Regressor',\n",
        "    'model_metrics': gd_metrics\n",
        "}\n",
        "\n",
        "with open('gd_feature_info.pkl', 'wb') as f:\n",
        "    pickle.dump(feature_info, f)\n",
        "\n",
        "\n",
        "print(\"Gradient boosting model saved and info saved\")"
      ]
    },
    {
      "cell_type": "code",
      "execution_count": 30,
      "metadata": {
        "colab": {
          "base_uri": "https://localhost:8080/"
        },
        "id": "XjeF_W1FN2XT",
        "outputId": "bdfffab7-bf67-4927-d55a-0e8d38b1fb10"
      },
      "outputs": [
        {
          "name": "stdout",
          "output_type": "stream",
          "text": [
            "Random Forrest model saved and info saved\n"
          ]
        }
      ],
      "source": [
        "joblib.dump(rf_model, f'rf_model.pkl')\n",
        "\n",
        "feature_info = {\n",
        "    'numerical_features': numerical_features,\n",
        "    'categorical_features': categorical_features,\n",
        "    'all_features': selected_features,\n",
        "    'target': TARGET,\n",
        "    'model_name': 'Random Forrest Regressor',\n",
        "    'model_metrics': rf_metrics\n",
        "}\n",
        "\n",
        "with open('rf_feature_info.pkl', 'wb') as f:\n",
        "    pickle.dump(feature_info, f)\n",
        "\n",
        "\n",
        "print(\"Random Forrest model saved and info saved\")"
      ]
    },
    {
      "cell_type": "code",
      "execution_count": null,
      "metadata": {
        "id": "i8bVK_5uO-oi"
      },
      "outputs": [],
      "source": [
        "encoder_mapping = {'playlist_genre': ['afrobeats', 'ambient', 'arabic', 'blues', 'brazilian', 'cantopop', 'classical', 'country', 'disco', 'electronic', 'folk', 'funk', 'gaming', 'gospel', 'hip-hop', 'indian', 'indie', 'j-pop', 'jazz', 'k-pop', 'korean', 'latin', 'lofi', 'mandopop', 'metal', 'pop', 'punk', 'r&b', 'reggae', 'rock', 'soca', 'soul', 'turkish', 'wellness', 'world'],\n",
        " 'playlist_subgenre': ['80s', '90s', 'academic', 'african', 'afro house', 'afro-latin', 'alternative', 'amapiano', 'american', 'anime', 'australian', 'avant-garde', 'bedroom', 'bhangra', 'bollywood', 'cajun', 'carnival', 'celtic', 'chill', 'chinese', 'choral', 'cinematic', 'classic', 'classical', 'cumbia', 'death', 'deep house', 'delta', 'desi', 'drama', 'drill', 'essential', 'experimental', 'feel-good', 'forró', 'french', 'funk', 'fusion', 'future', 'future bass', 'gangster', 'global', 'gqom', 'grime', 'hardstyle', 'heavy', 'hip-hop', 'indie', 'indigenous', 'irish', 'italo', 'japanese', 'jewish', 'klezmer', 'latin', 'mainstream', 'meditative', 'melodic', 'modern', 'neo-classical', 'nigerian', 'noir', 'nordic', 'pop', 'pop punk', 'post-rock', 'reggaeton', 'retro', 'samba', 'scandi', 'smooth', 'soft', 'soundtracks', 'southern', 'spanish', 'tango', 'techno', 'throat singing', 'throwback', 'trap', 'tropical', 'vaporwave', 'workout', 'yoga'],\n",
        " 'duration_category': ['Long', 'Medium', 'Short', 'Very_Long'], 'loudness_category': ['Loud', 'Medium', 'Quiet', 'Very_Loud'],\n",
        " 'tempo_category': ['Fast', 'Medium', 'Slow', 'Upbeat', 'Very_Fast']}\n",
        "\n",
        "with open('categorical_mappings.pkl', 'wb') as f:\n",
        "    pickle.dump(encoder_mapping, f)"
      ]
    },
    {
      "cell_type": "code",
      "execution_count": 31,
      "metadata": {
        "colab": {
          "base_uri": "https://localhost:8080/"
        },
        "id": "dQh--Gx7TbKp",
        "outputId": "e93469b8-b0be-42cc-ee92-406b77af12df"
      },
      "outputs": [
        {
          "name": "stdout",
          "output_type": "stream",
          "text": [
            "scaler saved: scaler.pkl\n",
            "encoder saved: encoder.pkl\n"
          ]
        }
      ],
      "source": [
        "scaler_path = os.path.join('scaler.pkl')\n",
        "joblib.dump(scaler, scaler_path)\n",
        "print(f\"scaler saved: {scaler_path}\")\n",
        "\n",
        "encoder_path = os.path.join('encoder.pkl')\n",
        "joblib.dump(encoder, encoder_path)\n",
        "print(f\"encoder saved: {encoder_path}\")"
      ]
    },
    {
      "cell_type": "code",
      "execution_count": null,
      "metadata": {},
      "outputs": [],
      "source": []
    }
  ],
  "metadata": {
    "colab": {
      "provenance": []
    },
    "kernelspec": {
      "display_name": "Python 3",
      "language": "python",
      "name": "python3"
    },
    "language_info": {
      "codemirror_mode": {
        "name": "ipython",
        "version": 3
      },
      "file_extension": ".py",
      "mimetype": "text/x-python",
      "name": "python",
      "nbconvert_exporter": "python",
      "pygments_lexer": "ipython3",
      "version": "3.13.1"
    }
  },
  "nbformat": 4,
  "nbformat_minor": 0
}
